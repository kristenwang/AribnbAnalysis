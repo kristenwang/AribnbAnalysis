{
 "cells": [
  {
   "cell_type": "code",
   "execution_count": 4,
   "metadata": {
    "collapsed": true
   },
   "outputs": [],
   "source": [
    "import pandas as pd"
   ]
  },
  {
   "cell_type": "markdown",
   "metadata": {},
   "source": [
    "# New York City "
   ]
  },
  {
   "cell_type": "markdown",
   "metadata": {},
   "source": [
    "### Reviewer"
   ]
  },
  {
   "cell_type": "code",
   "execution_count": 9,
   "metadata": {
    "collapsed": false
   },
   "outputs": [
    {
     "data": {
      "text/html": [
       "<div>\n",
       "<table border=\"1\" class=\"dataframe\">\n",
       "  <thead>\n",
       "    <tr style=\"text-align: right;\">\n",
       "      <th></th>\n",
       "      <th>listing_id</th>\n",
       "      <th>id</th>\n",
       "      <th>date</th>\n",
       "      <th>reviewer_id</th>\n",
       "      <th>reviewer_name</th>\n",
       "      <th>comments</th>\n",
       "    </tr>\n",
       "  </thead>\n",
       "  <tbody>\n",
       "    <tr>\n",
       "      <th>0</th>\n",
       "      <td>16667077</td>\n",
       "      <td>129952164</td>\n",
       "      <td>2017-02-03</td>\n",
       "      <td>113304043</td>\n",
       "      <td>Nur</td>\n",
       "      <td>exactly the same place like the pics- i apprec...</td>\n",
       "    </tr>\n",
       "    <tr>\n",
       "      <th>1</th>\n",
       "      <td>16667077</td>\n",
       "      <td>131099205</td>\n",
       "      <td>2017-02-10</td>\n",
       "      <td>23545132</td>\n",
       "      <td>Chase</td>\n",
       "      <td>Strong recommend!</td>\n",
       "    </tr>\n",
       "  </tbody>\n",
       "</table>\n",
       "</div>"
      ],
      "text/plain": [
       "   listing_id         id        date  reviewer_id reviewer_name  \\\n",
       "0    16667077  129952164  2017-02-03    113304043           Nur   \n",
       "1    16667077  131099205  2017-02-10     23545132         Chase   \n",
       "\n",
       "                                            comments  \n",
       "0  exactly the same place like the pics- i apprec...  \n",
       "1                                  Strong recommend!  "
      ]
     },
     "execution_count": 9,
     "metadata": {},
     "output_type": "execute_result"
    }
   ],
   "source": [
    "reviews2_nyc = pd.read_csv('../nyc/reviews2.csv')\n",
    "reviews2_nyc.head(2)"
   ]
  },
  {
   "cell_type": "code",
   "execution_count": 10,
   "metadata": {
    "collapsed": false
   },
   "outputs": [
    {
     "name": "stdout",
     "output_type": "stream",
     "text": [
      "The number of unique listing_ids in the dataset: 31130 out of 646717 total data points\n"
     ]
    }
   ],
   "source": [
    "print \"The number of unique listing_ids in the dataset:\", len(reviews2_nyc.listing_id.unique()), \"out of\", reviews2_nyc.shape[0], \"total data points\""
   ]
  },
  {
   "cell_type": "code",
   "execution_count": 4,
   "metadata": {
    "collapsed": false
   },
   "outputs": [
    {
     "data": {
      "text/plain": [
       "['exactly the same place like the pics- i appreciate it- just make the check-in process less complicated please- two people had the same struggle in one day.',\n",
       " 'Strong recommend!',\n",
       " 'This place is as described, a perfect and comfortable place to stay. I will definitely stay there again.',\n",
       " 'Nice place!',\n",
       " 'The apartment was clean and just as described. Reading instructions will get you through everything and great communication. Thanks again! ']"
      ]
     },
     "execution_count": 4,
     "metadata": {},
     "output_type": "execute_result"
    }
   ],
   "source": [
    "comments = []\n",
    "for comment in reviews2_nyc.comments:\n",
    "    comments.append(comment)\n",
    "    \n",
    "comments[:5]"
   ]
  },
  {
   "cell_type": "code",
   "execution_count": 11,
   "metadata": {
    "collapsed": false
   },
   "outputs": [
    {
     "data": {
      "text/html": [
       "<div>\n",
       "<table border=\"1\" class=\"dataframe\">\n",
       "  <thead>\n",
       "    <tr style=\"text-align: right;\">\n",
       "      <th></th>\n",
       "      <th>listing_id</th>\n",
       "      <th>reviewer_name</th>\n",
       "    </tr>\n",
       "  </thead>\n",
       "  <tbody>\n",
       "    <tr>\n",
       "      <th>0</th>\n",
       "      <td>16667077</td>\n",
       "      <td>Nur</td>\n",
       "    </tr>\n",
       "    <tr>\n",
       "      <th>1</th>\n",
       "      <td>16667077</td>\n",
       "      <td>Chase</td>\n",
       "    </tr>\n",
       "  </tbody>\n",
       "</table>\n",
       "</div>"
      ],
      "text/plain": [
       "   listing_id reviewer_name\n",
       "0    16667077           Nur\n",
       "1    16667077         Chase"
      ]
     },
     "execution_count": 11,
     "metadata": {},
     "output_type": "execute_result"
    }
   ],
   "source": [
    "# For gender inference\n",
    "\n",
    "cols = ['listing_id', 'reviewer_name']\n",
    "reviewer_name = reviews2_nyc.filter(cols, axis=1)\n",
    "reviewer_name.head(2)"
   ]
  },
  {
   "cell_type": "markdown",
   "metadata": {},
   "source": [
    "### Host"
   ]
  },
  {
   "cell_type": "code",
   "execution_count": 71,
   "metadata": {
    "collapsed": false
   },
   "outputs": [
    {
     "data": {
      "text/html": [
       "<div>\n",
       "<table border=\"1\" class=\"dataframe\">\n",
       "  <thead>\n",
       "    <tr style=\"text-align: right;\">\n",
       "      <th></th>\n",
       "      <th>id</th>\n",
       "      <th>host_name</th>\n",
       "    </tr>\n",
       "  </thead>\n",
       "  <tbody>\n",
       "    <tr>\n",
       "      <th>0</th>\n",
       "      <td>1475427</td>\n",
       "      <td>Daveyjoe!</td>\n",
       "    </tr>\n",
       "    <tr>\n",
       "      <th>1</th>\n",
       "      <td>14653286</td>\n",
       "      <td>Jillian</td>\n",
       "    </tr>\n",
       "  </tbody>\n",
       "</table>\n",
       "</div>"
      ],
      "text/plain": [
       "         id  host_name\n",
       "0   1475427  Daveyjoe!\n",
       "1  14653286    Jillian"
      ]
     },
     "execution_count": 71,
     "metadata": {},
     "output_type": "execute_result"
    }
   ],
   "source": [
    "listings_nyc = pd.read_csv('../nyc/listings.csv')\n",
    "cols = ['id', 'host_name']\n",
    "host_name = listings_nyc.filter(cols, axis=1)\n",
    "host_name.head(2)"
   ]
  },
  {
   "cell_type": "code",
   "execution_count": 7,
   "metadata": {
    "collapsed": false
   },
   "outputs": [
    {
     "data": {
      "text/html": [
       "<div>\n",
       "<table border=\"1\" class=\"dataframe\">\n",
       "  <thead>\n",
       "    <tr style=\"text-align: right;\">\n",
       "      <th></th>\n",
       "      <th>id</th>\n",
       "      <th>listing_url</th>\n",
       "      <th>scrape_id</th>\n",
       "      <th>last_scraped</th>\n",
       "      <th>name</th>\n",
       "      <th>summary</th>\n",
       "      <th>space</th>\n",
       "      <th>description</th>\n",
       "      <th>experiences_offered</th>\n",
       "      <th>neighborhood_overview</th>\n",
       "      <th>...</th>\n",
       "      <th>review_scores_value</th>\n",
       "      <th>requires_license</th>\n",
       "      <th>license</th>\n",
       "      <th>jurisdiction_names</th>\n",
       "      <th>instant_bookable</th>\n",
       "      <th>cancellation_policy</th>\n",
       "      <th>require_guest_profile_picture</th>\n",
       "      <th>require_guest_phone_verification</th>\n",
       "      <th>calculated_host_listings_count</th>\n",
       "      <th>reviews_per_month</th>\n",
       "    </tr>\n",
       "  </thead>\n",
       "  <tbody>\n",
       "    <tr>\n",
       "      <th>0</th>\n",
       "      <td>1475427</td>\n",
       "      <td>https://www.airbnb.com/rooms/1475427</td>\n",
       "      <td>20170401232026</td>\n",
       "      <td>2017-04-02</td>\n",
       "      <td>Cozy Twin for the NYC Win! [Gay/LGBT Friendly]</td>\n",
       "      <td>A small bedroom perfect for the budget-conscio...</td>\n",
       "      <td>The space is a single room in a 4 bedroom apar...</td>\n",
       "      <td>A small bedroom perfect for the budget-conscio...</td>\n",
       "      <td>none</td>\n",
       "      <td>Sunnyside is a very quiet, very very safe NYC ...</td>\n",
       "      <td>...</td>\n",
       "      <td>10.0</td>\n",
       "      <td>f</td>\n",
       "      <td>NaN</td>\n",
       "      <td>NaN</td>\n",
       "      <td>f</td>\n",
       "      <td>strict</td>\n",
       "      <td>f</td>\n",
       "      <td>f</td>\n",
       "      <td>1</td>\n",
       "      <td>1.12</td>\n",
       "    </tr>\n",
       "  </tbody>\n",
       "</table>\n",
       "<p>1 rows × 95 columns</p>\n",
       "</div>"
      ],
      "text/plain": [
       "        id                           listing_url       scrape_id last_scraped  \\\n",
       "0  1475427  https://www.airbnb.com/rooms/1475427  20170401232026   2017-04-02   \n",
       "\n",
       "                                             name  \\\n",
       "0  Cozy Twin for the NYC Win! [Gay/LGBT Friendly]   \n",
       "\n",
       "                                             summary  \\\n",
       "0  A small bedroom perfect for the budget-conscio...   \n",
       "\n",
       "                                               space  \\\n",
       "0  The space is a single room in a 4 bedroom apar...   \n",
       "\n",
       "                                         description experiences_offered  \\\n",
       "0  A small bedroom perfect for the budget-conscio...                none   \n",
       "\n",
       "                               neighborhood_overview        ...          \\\n",
       "0  Sunnyside is a very quiet, very very safe NYC ...        ...           \n",
       "\n",
       "  review_scores_value requires_license license jurisdiction_names  \\\n",
       "0                10.0                f     NaN                NaN   \n",
       "\n",
       "  instant_bookable cancellation_policy require_guest_profile_picture  \\\n",
       "0                f              strict                             f   \n",
       "\n",
       "  require_guest_phone_verification calculated_host_listings_count  \\\n",
       "0                                f                              1   \n",
       "\n",
       "   reviews_per_month  \n",
       "0               1.12  \n",
       "\n",
       "[1 rows x 95 columns]"
      ]
     },
     "execution_count": 7,
     "metadata": {},
     "output_type": "execute_result"
    }
   ],
   "source": [
    "listings_nyc.head(1)"
   ]
  },
  {
   "cell_type": "code",
   "execution_count": 7,
   "metadata": {
    "collapsed": false
   },
   "outputs": [
    {
     "data": {
      "text/plain": [
       "True"
      ]
     },
     "execution_count": 7,
     "metadata": {},
     "output_type": "execute_result"
    }
   ],
   "source": [
    "# 16667077\n",
    "df = listings_nyc\n",
    "ids = list(listings_nyc.id)\n",
    "type(ids)\n",
    "ids[:4]\n",
    "type(ids[0])\n",
    "# df[df['Cozy Twin for the NYC Win! [Gay/LGBT Friendly]']].index.tolist()\n",
    "16667077 in listings_nyc.id.unique()"
   ]
  },
  {
   "cell_type": "code",
   "execution_count": 9,
   "metadata": {
    "collapsed": false
   },
   "outputs": [
    {
     "data": {
      "text/plain": [
       "Index([u'id', u'listing_url', u'scrape_id', u'last_scraped', u'name',\n",
       "       u'summary', u'space', u'description', u'experiences_offered',\n",
       "       u'neighborhood_overview', u'notes', u'transit', u'access',\n",
       "       u'interaction', u'house_rules', u'thumbnail_url', u'medium_url',\n",
       "       u'picture_url', u'xl_picture_url', u'host_id', u'host_url',\n",
       "       u'host_name', u'host_since', u'host_location', u'host_about',\n",
       "       u'host_response_time', u'host_response_rate', u'host_acceptance_rate',\n",
       "       u'host_is_superhost', u'host_thumbnail_url', u'host_picture_url',\n",
       "       u'host_neighbourhood', u'host_listings_count',\n",
       "       u'host_total_listings_count', u'host_verifications',\n",
       "       u'host_has_profile_pic', u'host_identity_verified', u'street',\n",
       "       u'neighbourhood', u'neighbourhood_cleansed',\n",
       "       u'neighbourhood_group_cleansed', u'city', u'state', u'zipcode',\n",
       "       u'market', u'smart_location', u'country_code', u'country', u'latitude',\n",
       "       u'longitude', u'is_location_exact', u'property_type', u'room_type',\n",
       "       u'accommodates', u'bathrooms', u'bedrooms', u'beds', u'bed_type',\n",
       "       u'amenities', u'square_feet', u'price', u'weekly_price',\n",
       "       u'monthly_price', u'security_deposit', u'cleaning_fee',\n",
       "       u'guests_included', u'extra_people', u'minimum_nights',\n",
       "       u'maximum_nights', u'calendar_updated', u'has_availability',\n",
       "       u'availability_30', u'availability_60', u'availability_90',\n",
       "       u'availability_365', u'calendar_last_scraped', u'number_of_reviews',\n",
       "       u'first_review', u'last_review', u'review_scores_rating',\n",
       "       u'review_scores_accuracy', u'review_scores_cleanliness',\n",
       "       u'review_scores_checkin', u'review_scores_communication',\n",
       "       u'review_scores_location', u'review_scores_value', u'requires_license',\n",
       "       u'license', u'jurisdiction_names', u'instant_bookable',\n",
       "       u'cancellation_policy', u'require_guest_profile_picture',\n",
       "       u'require_guest_phone_verification', u'calculated_host_listings_count',\n",
       "       u'reviews_per_month'],\n",
       "      dtype='object')"
      ]
     },
     "execution_count": 9,
     "metadata": {},
     "output_type": "execute_result"
    }
   ],
   "source": [
    "listings_nyc.columns"
   ]
  },
  {
   "cell_type": "code",
   "execution_count": null,
   "metadata": {
    "collapsed": true
   },
   "outputs": [],
   "source": []
  },
  {
   "cell_type": "code",
   "execution_count": null,
   "metadata": {
    "collapsed": true
   },
   "outputs": [],
   "source": []
  },
  {
   "cell_type": "code",
   "execution_count": null,
   "metadata": {
    "collapsed": true
   },
   "outputs": [],
   "source": []
  },
  {
   "cell_type": "code",
   "execution_count": null,
   "metadata": {
    "collapsed": true
   },
   "outputs": [],
   "source": []
  },
  {
   "cell_type": "code",
   "execution_count": null,
   "metadata": {
    "collapsed": true
   },
   "outputs": [],
   "source": []
  },
  {
   "cell_type": "code",
   "execution_count": null,
   "metadata": {
    "collapsed": true
   },
   "outputs": [],
   "source": []
  },
  {
   "cell_type": "code",
   "execution_count": null,
   "metadata": {
    "collapsed": true
   },
   "outputs": [],
   "source": []
  },
  {
   "cell_type": "code",
   "execution_count": null,
   "metadata": {
    "collapsed": true
   },
   "outputs": [],
   "source": []
  },
  {
   "cell_type": "code",
   "execution_count": null,
   "metadata": {
    "collapsed": true
   },
   "outputs": [],
   "source": []
  },
  {
   "cell_type": "code",
   "execution_count": null,
   "metadata": {
    "collapsed": true
   },
   "outputs": [],
   "source": []
  },
  {
   "cell_type": "code",
   "execution_count": 8,
   "metadata": {
    "collapsed": false
   },
   "outputs": [
    {
     "data": {
      "text/plain": [
       "Index([u'id', u'listing_url', u'scrape_id', u'last_scraped', u'name',\n",
       "       u'summary', u'space', u'description', u'experiences_offered',\n",
       "       u'neighborhood_overview', u'notes', u'transit', u'access',\n",
       "       u'interaction', u'house_rules', u'thumbnail_url', u'medium_url',\n",
       "       u'picture_url', u'xl_picture_url', u'host_id', u'host_url',\n",
       "       u'host_name', u'host_since', u'host_location', u'host_about',\n",
       "       u'host_response_time', u'host_response_rate', u'host_acceptance_rate',\n",
       "       u'host_is_superhost', u'host_thumbnail_url', u'host_picture_url',\n",
       "       u'host_neighbourhood', u'host_listings_count',\n",
       "       u'host_total_listings_count', u'host_verifications',\n",
       "       u'host_has_profile_pic', u'host_identity_verified', u'street',\n",
       "       u'neighbourhood', u'neighbourhood_cleansed',\n",
       "       u'neighbourhood_group_cleansed', u'city', u'state', u'zipcode',\n",
       "       u'market', u'smart_location', u'country_code', u'country', u'latitude',\n",
       "       u'longitude', u'is_location_exact', u'property_type', u'room_type',\n",
       "       u'accommodates', u'bathrooms', u'bedrooms', u'beds', u'bed_type',\n",
       "       u'amenities', u'square_feet', u'price', u'weekly_price',\n",
       "       u'monthly_price', u'security_deposit', u'cleaning_fee',\n",
       "       u'guests_included', u'extra_people', u'minimum_nights',\n",
       "       u'maximum_nights', u'calendar_updated', u'has_availability',\n",
       "       u'availability_30', u'availability_60', u'availability_90',\n",
       "       u'availability_365', u'calendar_last_scraped', u'number_of_reviews',\n",
       "       u'first_review', u'last_review', u'review_scores_rating',\n",
       "       u'review_scores_accuracy', u'review_scores_cleanliness',\n",
       "       u'review_scores_checkin', u'review_scores_communication',\n",
       "       u'review_scores_location', u'review_scores_value', u'requires_license',\n",
       "       u'license', u'jurisdiction_names', u'instant_bookable',\n",
       "       u'cancellation_policy', u'require_guest_profile_picture',\n",
       "       u'require_guest_phone_verification', u'calculated_host_listings_count',\n",
       "       u'reviews_per_month'],\n",
       "      dtype='object')"
      ]
     },
     "execution_count": 8,
     "metadata": {},
     "output_type": "execute_result"
    }
   ],
   "source": [
    "listings_nyc = pd.read_csv('../nyc/listings.csv')\n",
    "listings_nyc.columns"
   ]
  },
  {
   "cell_type": "code",
   "execution_count": 9,
   "metadata": {
    "collapsed": true
   },
   "outputs": [],
   "source": [
    "cols = ['id', 'host_name']\n",
    "relevant_fromListings = listings_nyc.filter(cols, axis=1)"
   ]
  },
  {
   "cell_type": "code",
   "execution_count": 10,
   "metadata": {
    "collapsed": false
   },
   "outputs": [
    {
     "data": {
      "text/html": [
       "<div>\n",
       "<table border=\"1\" class=\"dataframe\">\n",
       "  <thead>\n",
       "    <tr style=\"text-align: right;\">\n",
       "      <th></th>\n",
       "      <th>id</th>\n",
       "      <th>host_name</th>\n",
       "    </tr>\n",
       "  </thead>\n",
       "  <tbody>\n",
       "    <tr>\n",
       "      <th>0</th>\n",
       "      <td>1475427</td>\n",
       "      <td>Daveyjoe!</td>\n",
       "    </tr>\n",
       "    <tr>\n",
       "      <th>1</th>\n",
       "      <td>14653286</td>\n",
       "      <td>Jillian</td>\n",
       "    </tr>\n",
       "    <tr>\n",
       "      <th>2</th>\n",
       "      <td>15483662</td>\n",
       "      <td>Lidia</td>\n",
       "    </tr>\n",
       "  </tbody>\n",
       "</table>\n",
       "</div>"
      ],
      "text/plain": [
       "         id  host_name\n",
       "0   1475427  Daveyjoe!\n",
       "1  14653286    Jillian\n",
       "2  15483662      Lidia"
      ]
     },
     "execution_count": 10,
     "metadata": {},
     "output_type": "execute_result"
    }
   ],
   "source": [
    "relevant_fromListings.head(3)"
   ]
  },
  {
   "cell_type": "code",
   "execution_count": null,
   "metadata": {
    "collapsed": true
   },
   "outputs": [],
   "source": []
  },
  {
   "cell_type": "code",
   "execution_count": null,
   "metadata": {
    "collapsed": true
   },
   "outputs": [],
   "source": []
  },
  {
   "cell_type": "code",
   "execution_count": null,
   "metadata": {
    "collapsed": true
   },
   "outputs": [],
   "source": []
  },
  {
   "cell_type": "code",
   "execution_count": 13,
   "metadata": {
    "collapsed": false
   },
   "outputs": [
    {
     "ename": "NameError",
     "evalue": "name 'reviews' is not defined",
     "output_type": "error",
     "traceback": [
      "\u001b[0;31m---------------------------------------------------------------------------\u001b[0m",
      "\u001b[0;31mNameError\u001b[0m                                 Traceback (most recent call last)",
      "\u001b[0;32m<ipython-input-13-9820a8ff19da>\u001b[0m in \u001b[0;36m<module>\u001b[0;34m()\u001b[0m\n\u001b[0;32m----> 1\u001b[0;31m \u001b[0mreviews\u001b[0m\u001b[0;34m.\u001b[0m\u001b[0mshape\u001b[0m\u001b[0;34m,\u001b[0m \u001b[0mlistings\u001b[0m\u001b[0;34m.\u001b[0m\u001b[0mshape\u001b[0m\u001b[0;34m\u001b[0m\u001b[0m\n\u001b[0m",
      "\u001b[0;31mNameError\u001b[0m: name 'reviews' is not defined"
     ]
    }
   ],
   "source": [
    "reviews.shape, listings.shape"
   ]
  },
  {
   "cell_type": "code",
   "execution_count": 30,
   "metadata": {
    "collapsed": false
   },
   "outputs": [
    {
     "data": {
      "text/plain": [
       "(15564, 20130)"
      ]
     },
     "execution_count": 30,
     "metadata": {},
     "output_type": "execute_result"
    }
   ],
   "source": [
    "len(reviews.listing_id.unique()), len(listings.id.unique())"
   ]
  },
  {
   "cell_type": "code",
   "execution_count": 35,
   "metadata": {
    "collapsed": false
   },
   "outputs": [
    {
     "data": {
      "text/plain": [
       "0         L'appartement de Julia est superbe, spacieux, ...\n",
       "1         Nice, bright and very quiet flat. \\nYou have e...\n",
       "2         Gerald is friendly and relaxed. His place is s...\n",
       "3         Der Aufenthalt in Moniques Wohnung war wunders...\n",
       "4         Der Aufenthalt bei Monique war super! Ich habe...\n",
       "5         Wir haben uns in dem schönen Zimmer sehr wohl ...\n",
       "6         Very kind and nice host. Clean, comfy place. E...\n",
       "7         Vielen Dank für die super Kommunikation :) Mei...\n",
       "8         Jan his apartment is in a nice, quiet neighbor...\n",
       "9         Jan's place is excellent! Really close to many...\n",
       "10        Jan was very helpful and super friendly. His r...\n",
       "11        Ein sympathischer, hilfsbereiter Gastgeber in ...\n",
       "12        Georg is a really NICE and very welcome host.\\...\n",
       "13        I had a really good time at this place! The ro...\n",
       "14        Der Aufenthalt bei Georg und Ina war rundum pe...\n",
       "15        There is no words to describe how nice Georg h...\n",
       "16        Located in the hip, on-the-up area of Neukölln...\n",
       "17        Feedback von Wolfgang Selke, dem Gast:\\n\\nNach...\n",
       "18        Verten fikk meg til å føle meg velkommen. Utle...\n",
       "19        Georg was very nice upon welcome and very hosp...\n",
       "20        My sister and I stayed at Georg's for 5 days (...\n",
       "21        A great location a couple of minutes from Herm...\n",
       "22        Georg was incredibly welcoming - we ended up c...\n",
       "23        I really enjoyed time at George's place. Every...\n",
       "24        I've been at Georg's place for ten days. I rea...\n",
       "25        Georgs lejlighed levede fuldstændig op til vor...\n",
       "26        Whatever I say probably won't do this listing/...\n",
       "27        The flat was perfect for my two week stay in B...\n",
       "28        The apartment was super great and Georg is the...\n",
       "29        Georg was a great host who went out of his way...\n",
       "                                ...                        \n",
       "256176    We had a wonderful stay at Lisa's apartment. W...\n",
       "256177    What a pleasant holiday spent in Berlin! Lisa ...\n",
       "256178    A beautiful apartment, a great neighbourhood a...\n",
       "256179    We stayed 3 nights at lisa's place and we have...\n",
       "256180    All was perfect. Nice, cozy and quiet place al...\n",
       "256181    It was really nice to stay in the studio apart...\n",
       "256182    Basic and clean apartment on the edge of the v...\n",
       "256183    Jannis' place was perfect! Great location and ...\n",
       "256184    Fanny made us feel very welcome and the place ...\n",
       "256185    I and my familly had a pleasnt stay. Fanny rea...\n",
       "256186    Easy going? Easy going indeed!\\r\\n\\r\\nFanny ha...\n",
       "256187    Fanny war der liebevollste Gastgeber seit lang...\n",
       "256188    Wir wurden sehr herzlich von Fanny empfangen, ...\n",
       "256189    Fanny is such a sweet person, completely focus...\n",
       "256190    Meine Freundin und ich haben fünf Nächte in Fa...\n",
       "256191    This place is in the heart of Berlin's Friedri...\n",
       "256192    Fanny was a very welcoming host and gave us gr...\n",
       "256193    This is the best Airbnb host we have met so fa...\n",
       "256194    Fanny made us feel very welcome from the momen...\n",
       "256195    Fanny was a very kind and sweet host to me and...\n",
       "256196    Wir waren mit drei Mädels bei Fanny für 4 Näch...\n",
       "256197    Fanny hat mir eine Wegbeschreibung per sms ges...\n",
       "256198    Fanny was an excellent host. Very helpful, acc...\n",
       "256199    Fanny is lovely and made us feel totally at ho...\n",
       "256200                     Limpio espacioso y muy tranquilo\n",
       "256201    Fanny was a great host! She made us feel at ho...\n",
       "256202    We had a great Stay at Lukas' WG\\n\\nLukas and ...\n",
       "256203    Did not meet host, just met chap who let us in...\n",
       "256204    Очень красивая и уютная квартира в хорошем рай...\n",
       "256205    It's been a fantastic stay at Songfrei's place...\n",
       "Name: comments, dtype: object"
      ]
     },
     "execution_count": 35,
     "metadata": {},
     "output_type": "execute_result"
    }
   ],
   "source": []
  },
  {
   "cell_type": "code",
   "execution_count": null,
   "metadata": {
    "collapsed": true
   },
   "outputs": [],
   "source": []
  },
  {
   "cell_type": "code",
   "execution_count": null,
   "metadata": {
    "collapsed": true
   },
   "outputs": [],
   "source": []
  },
  {
   "cell_type": "code",
   "execution_count": null,
   "metadata": {
    "collapsed": true
   },
   "outputs": [],
   "source": []
  },
  {
   "cell_type": "code",
   "execution_count": null,
   "metadata": {
    "collapsed": true
   },
   "outputs": [],
   "source": []
  },
  {
   "cell_type": "code",
   "execution_count": null,
   "metadata": {
    "collapsed": true
   },
   "outputs": [],
   "source": []
  },
  {
   "cell_type": "code",
   "execution_count": null,
   "metadata": {
    "collapsed": true
   },
   "outputs": [],
   "source": []
  },
  {
   "cell_type": "code",
   "execution_count": 33,
   "metadata": {
    "collapsed": true
   },
   "outputs": [],
   "source": [
    "texts = []\n",
    "c = 0\n",
    "for idNumber in reviews.listing_id.unique():\n",
    "    c = c + 1\n",
    "    text = listings[listings.id == idNumber].iloc[0]  \n",
    "#     texts.append(text.ho)\n",
    "#     full_counts.append(liwc_lexicon.summarize_document(text.host_about))\n",
    "#     topics.append(text[dis_cols].tolist())\n",
    "#     read.append(textstat.flesch_kincaid_grade(text.host_about))"
   ]
  },
  {
   "cell_type": "code",
   "execution_count": 34,
   "metadata": {
    "collapsed": false
   },
   "outputs": [
    {
     "data": {
      "text/plain": [
       "15564"
      ]
     },
     "execution_count": 34,
     "metadata": {},
     "output_type": "execute_result"
    }
   ],
   "source": [
    "c"
   ]
  },
  {
   "cell_type": "markdown",
   "metadata": {
    "collapsed": true
   },
   "source": [
    "## Chuyang"
   ]
  },
  {
   "cell_type": "code",
   "execution_count": 29,
   "metadata": {
    "collapsed": false
   },
   "outputs": [],
   "source": [
    "filenames = ['../names/yob1880.txt']\n",
    "for i in range(135):\n",
    "    filenames.append('../names/yob'+str(1881+i)+'.txt')"
   ]
  },
  {
   "cell_type": "code",
   "execution_count": 30,
   "metadata": {
    "collapsed": true
   },
   "outputs": [],
   "source": [
    "with open('../names/names.txt', 'w') as outfile:\n",
    "    for fname in filenames:\n",
    "        with open(fname) as infile:\n",
    "            for line in infile:\n",
    "                outfile.write(line)"
   ]
  },
  {
   "cell_type": "code",
   "execution_count": 34,
   "metadata": {
    "collapsed": false
   },
   "outputs": [],
   "source": [
    "import csv\n",
    "with open('../names/names.txt', 'r') as in_file:\n",
    "    stripped = (line.strip() for line in in_file)\n",
    "    lines = (line.split(\",\") for line in stripped if line)\n",
    "    with open('../names/names.csv', 'w') as out_file:\n",
    "        writer = csv.writer(out_file)\n",
    "        writer.writerow(('name', 'gender', 'number'))\n",
    "        writer.writerows(lines)"
   ]
  },
  {
   "cell_type": "code",
   "execution_count": 185,
   "metadata": {
    "collapsed": false
   },
   "outputs": [
    {
     "name": "stdout",
     "output_type": "stream",
     "text": [
      "         name gender  number\n",
      "0       Aaban      M      87\n",
      "1       Aabha      F      28\n",
      "2       Aabid      M       5\n",
      "3   Aabriella      F      15\n",
      "4        Aada      F       5\n",
      "5       Aadam      M     218\n",
      "6       Aadan      M     122\n",
      "7     Aadarsh      M     173\n",
      "8       Aaden      M    4213\n",
      "9      Aadesh      M      15\n",
      "10     Aadhav      M     133\n",
      "11   Aadhavan      M      24\n",
      "12      Aadhi      M      23\n",
      "13    Aadhira      F      37\n",
      "14    Aadhvik      M       9\n",
      "15     Aadhya      F     904\n",
      "16    Aadhyan      M      12\n",
      "17       Aadi      M     710\n",
      "18     Aadian      M       5\n",
      "19      Aadil      M     311\n"
     ]
    }
   ],
   "source": [
    "names = pd.read_csv('../names/names.csv')\n",
    "sortedNames = names.sort_values('name')\n",
    "# Group same name & gender\n",
    "sortedNames = sortedNames.groupby([\"name\", \"gender\"], as_index=False).sum()\n",
    "sortedNames = sortedNames.sort_values(['name', 'number'])\n",
    "sortedNames = sortedNames.drop_duplicates(['name'], keep='last')\n",
    "sortedNames = sortedNames.reset_index().drop('index', 1)\n",
    "print sortedNames[:20]"
   ]
  },
  {
   "cell_type": "code",
   "execution_count": 186,
   "metadata": {
    "collapsed": false
   },
   "outputs": [],
   "source": [
    "# Save sorted name & gender to csv file\n",
    "sortedNames.to_csv('../names/nameToGender.txt',columns=['name','gender'],index=False)"
   ]
  },
  {
   "cell_type": "code",
   "execution_count": 187,
   "metadata": {
    "collapsed": false
   },
   "outputs": [],
   "source": [
    "import string\n",
    "hostIdAndName = relevant_fromListings\n",
    "hostIdAndName = hostIdAndName.dropna()\n",
    "hostIdAndName = hostIdAndName.reset_index().drop('index', 1)"
   ]
  },
  {
   "cell_type": "code",
   "execution_count": 188,
   "metadata": {
    "collapsed": false
   },
   "outputs": [
    {
     "name": "stdout",
     "output_type": "stream",
     "text": [
      "(40594, 1)\n",
      "(40594, 2)\n"
     ]
    }
   ],
   "source": [
    "first_name = hostIdAndName['host_name'].str.split('\\s+').str[0]\n",
    "first_name = first_name.str.strip(string.punctuation)\n",
    "first_name = first_name.reset_index().drop('index', 1)\n",
    "first_name.columns = ['host_first_name']\n",
    "print first_name.shape\n",
    "print hostIdAndName.shape"
   ]
  },
  {
   "cell_type": "code",
   "execution_count": 189,
   "metadata": {
    "collapsed": false
   },
   "outputs": [
    {
     "name": "stdout",
     "output_type": "stream",
     "text": [
      "         id  host_name host_first_name\n",
      "0   1475427  Daveyjoe!        Daveyjoe\n",
      "1  14653286    Jillian         Jillian\n",
      "2  15483662      Lidia           Lidia\n",
      "3  11767644    Demetra         Demetra\n",
      "4  15043788     Nurcan          Nurcan\n",
      "5  14650584   Josefina        Josefina\n",
      "6  16879854  Alejandro       Alejandro\n",
      "7  15043534     Nurcan          Nurcan\n",
      "8   1935891   Michelle        Michelle\n",
      "9   6130145      Ester           Ester\n"
     ]
    }
   ],
   "source": [
    "hostIdAndName = pd.concat([hostIdAndName, first_name], axis=1)\n",
    "print hostIdAndName[:10]"
   ]
  },
  {
   "cell_type": "code",
   "execution_count": 201,
   "metadata": {
    "collapsed": false
   },
   "outputs": [
    {
     "data": {
      "text/plain": [
       "array([('aaban', 'M'), ('aabha', 'F'), ('aabid', 'M'), ('aabriella', 'F'),\n",
       "       ('aada', 'F')], \n",
       "      dtype=[('name', 'S50'), ('gender', 'S1')])"
      ]
     },
     "execution_count": 201,
     "metadata": {},
     "output_type": "execute_result"
    }
   ],
   "source": [
    "import numpy as np\n",
    "from sklearn.neighbors import KNeighborsClassifier\n",
    "\n",
    "nameAndGender = np.genfromtxt('../names/nameToGender.txt', \n",
    "                        delimiter=',', \n",
    "                        dtype=[('name','S50'), ('gender','S1')],\n",
    "                        converters={0: lambda s:s.lower()})\n",
    "nameAndGender[:5]"
   ]
  },
  {
   "cell_type": "code",
   "execution_count": 202,
   "metadata": {
    "collapsed": false
   },
   "outputs": [],
   "source": [
    "def name_count(name):\n",
    "    arr = np.zeros(48)\n",
    "    # Iterate each character\n",
    "    for ind, x in enumerate(name):\n",
    "        if ind > 21: break\n",
    "        arr[ind] = int(ord(x)-ord('a')+1)\n",
    "        if 22+ord(x)-ord('a') < 48 and 21+ord(x)-ord('a') >= 0 :\n",
    "            arr[22+ord(x)-ord('a')] += ind+1\n",
    "        else:\n",
    "            arr[22] += ind+1\n",
    "    return arr\n",
    "\n",
    "name_map = np.vectorize(name_count, otypes=[np.ndarray])\n",
    "trainData = name_map(nameAndGender['name'])\n",
    "trainData = np.array(trainData.tolist())\n",
    "trainResult = nameAndGender['gender']"
   ]
  },
  {
   "cell_type": "code",
   "execution_count": 192,
   "metadata": {
    "collapsed": false
   },
   "outputs": [],
   "source": [
    "first_name.to_csv('../names/firstNames.txt',columns=['host_first_name'],index=False)"
   ]
  },
  {
   "cell_type": "code",
   "execution_count": 196,
   "metadata": {
    "collapsed": false
   },
   "outputs": [
    {
     "data": {
      "text/plain": [
       "array(['daveyjoe', 'jillian', 'lidia', 'demetra', 'nurcan', 'josefina',\n",
       "       'alejandro', 'nurcan', 'michelle', 'ester'], \n",
       "      dtype='|S21')"
      ]
     },
     "execution_count": 196,
     "metadata": {},
     "output_type": "execute_result"
    }
   ],
   "source": [
    "firstNames = np.genfromtxt('../names/firstNames.txt', \n",
    "                        dtype=[('name','S21')],\n",
    "                        converters={0: lambda s:s.lower()})\n",
    "firstNames[:10]"
   ]
  },
  {
   "cell_type": "code",
   "execution_count": 198,
   "metadata": {
    "collapsed": false
   },
   "outputs": [
    {
     "data": {
      "text/plain": [
       "array([[  4.,   1.,  22.,   5.,  25.,  10.,  15.,   5.,   0.,   0.,   0.,\n",
       "          0.,   0.,   0.,   0.,   0.,   0.,   0.,   0.,   0.,   0.,   0.,\n",
       "          2.,   0.,   0.,   1.,  12.,   0.,   0.,   0.,   0.,   6.,   0.,\n",
       "          0.,   0.,   0.,   7.,   0.,   0.,   0.,   0.,   0.,   0.,   3.,\n",
       "          0.,   0.,   5.,   0.],\n",
       "       [ 10.,   9.,  12.,  12.,   9.,   1.,  14.,   0.,   0.,   0.,   0.,\n",
       "          0.,   0.,   0.,   0.,   0.,   0.,   0.,   0.,   0.,   0.,   0.,\n",
       "          6.,   0.,   0.,   0.,   0.,   0.,   0.,   0.,   7.,   1.,   0.,\n",
       "          7.,   0.,   7.,   0.,   0.,   0.,   0.,   0.,   0.,   0.,   0.,\n",
       "          0.,   0.,   0.,   0.],\n",
       "       [ 12.,   9.,   4.,   9.,   1.,   0.,   0.,   0.,   0.,   0.,   0.,\n",
       "          0.,   0.,   0.,   0.,   0.,   0.,   0.,   0.,   0.,   0.,   0.,\n",
       "          5.,   0.,   0.,   3.,   0.,   0.,   0.,   0.,   6.,   0.,   0.,\n",
       "          1.,   0.,   0.,   0.,   0.,   0.,   0.,   0.,   0.,   0.,   0.,\n",
       "          0.,   0.,   0.,   0.],\n",
       "       [  4.,   5.,  13.,   5.,  20.,  18.,   1.,   0.,   0.,   0.,   0.,\n",
       "          0.,   0.,   0.,   0.,   0.,   0.,   0.,   0.,   0.,   0.,   0.,\n",
       "          7.,   0.,   0.,   1.,   6.,   0.,   0.,   0.,   0.,   0.,   0.,\n",
       "          0.,   3.,   0.,   0.,   0.,   0.,   6.,   0.,   5.,   0.,   0.,\n",
       "          0.,   0.,   0.,   0.],\n",
       "       [ 14.,  21.,  18.,   3.,   1.,  14.,   0.,   0.,   0.,   0.,   0.,\n",
       "          0.,   0.,   0.,   0.,   0.,   0.,   0.,   0.,   0.,   0.,   0.,\n",
       "          5.,   0.,   4.,   0.,   0.,   0.,   0.,   0.,   0.,   0.,   0.,\n",
       "          0.,   0.,   7.,   0.,   0.,   0.,   3.,   0.,   0.,   2.,   0.,\n",
       "          0.,   0.,   0.,   0.]])"
      ]
     },
     "execution_count": 198,
     "metadata": {},
     "output_type": "execute_result"
    }
   ],
   "source": [
    "hostData = name_map(firstNames)\n",
    "hostData = np.array(hostData.tolist())\n",
    "hostData[:5]"
   ]
  },
  {
   "cell_type": "code",
   "execution_count": 203,
   "metadata": {
    "collapsed": false
   },
   "outputs": [
    {
     "data": {
      "text/plain": [
       "KNeighborsClassifier(algorithm='auto', leaf_size=30, metric='minkowski',\n",
       "           metric_params=None, n_jobs=1, n_neighbors=1, p=2,\n",
       "           weights='uniform')"
      ]
     },
     "execution_count": 203,
     "metadata": {},
     "output_type": "execute_result"
    }
   ],
   "source": [
    "neigh = KNeighborsClassifier(n_neighbors=1)\n",
    "neigh.fit(trainData, trainResult)"
   ]
  },
  {
   "cell_type": "code",
   "execution_count": 200,
   "metadata": {
    "collapsed": false
   },
   "outputs": [],
   "source": [
    "pred = neigh.predict(hostData)"
   ]
  },
  {
   "cell_type": "code",
   "execution_count": 201,
   "metadata": {
    "collapsed": false
   },
   "outputs": [
    {
     "data": {
      "text/html": [
       "<div>\n",
       "<table border=\"1\" class=\"dataframe\">\n",
       "  <thead>\n",
       "    <tr style=\"text-align: right;\">\n",
       "      <th></th>\n",
       "      <th>id</th>\n",
       "      <th>host_name</th>\n",
       "      <th>gender</th>\n",
       "    </tr>\n",
       "  </thead>\n",
       "  <tbody>\n",
       "    <tr>\n",
       "      <th>0</th>\n",
       "      <td>1475427</td>\n",
       "      <td>Daveyjoe!</td>\n",
       "      <td>M</td>\n",
       "    </tr>\n",
       "    <tr>\n",
       "      <th>1</th>\n",
       "      <td>14653286</td>\n",
       "      <td>Jillian</td>\n",
       "      <td>F</td>\n",
       "    </tr>\n",
       "    <tr>\n",
       "      <th>2</th>\n",
       "      <td>15483662</td>\n",
       "      <td>Lidia</td>\n",
       "      <td>F</td>\n",
       "    </tr>\n",
       "    <tr>\n",
       "      <th>3</th>\n",
       "      <td>11767644</td>\n",
       "      <td>Demetra</td>\n",
       "      <td>F</td>\n",
       "    </tr>\n",
       "    <tr>\n",
       "      <th>4</th>\n",
       "      <td>15043788</td>\n",
       "      <td>Nurcan</td>\n",
       "      <td>F</td>\n",
       "    </tr>\n",
       "    <tr>\n",
       "      <th>5</th>\n",
       "      <td>14650584</td>\n",
       "      <td>Josefina</td>\n",
       "      <td>F</td>\n",
       "    </tr>\n",
       "    <tr>\n",
       "      <th>6</th>\n",
       "      <td>16879854</td>\n",
       "      <td>Alejandro</td>\n",
       "      <td>M</td>\n",
       "    </tr>\n",
       "    <tr>\n",
       "      <th>7</th>\n",
       "      <td>15043534</td>\n",
       "      <td>Nurcan</td>\n",
       "      <td>F</td>\n",
       "    </tr>\n",
       "    <tr>\n",
       "      <th>8</th>\n",
       "      <td>1935891</td>\n",
       "      <td>Michelle</td>\n",
       "      <td>F</td>\n",
       "    </tr>\n",
       "    <tr>\n",
       "      <th>9</th>\n",
       "      <td>6130145</td>\n",
       "      <td>Ester</td>\n",
       "      <td>F</td>\n",
       "    </tr>\n",
       "  </tbody>\n",
       "</table>\n",
       "</div>"
      ],
      "text/plain": [
       "         id  host_name gender\n",
       "0   1475427  Daveyjoe!      M\n",
       "1  14653286    Jillian      F\n",
       "2  15483662      Lidia      F\n",
       "3  11767644    Demetra      F\n",
       "4  15043788     Nurcan      F\n",
       "5  14650584   Josefina      F\n",
       "6  16879854  Alejandro      M\n",
       "7  15043534     Nurcan      F\n",
       "8   1935891   Michelle      F\n",
       "9   6130145      Ester      F"
      ]
     },
     "execution_count": 201,
     "metadata": {},
     "output_type": "execute_result"
    }
   ],
   "source": [
    "host_gender = pd.DataFrame(pred)\n",
    "host_gender.columns = ['gender']\n",
    "hostIdAndGender = pd.concat([hostIdAndName, host_gender], axis=1)\n",
    "hostIdAndGender = hostIdAndGender.drop('host_first_name',1)\n",
    "hostIdAndGender[:10]"
   ]
  },
  {
   "cell_type": "code",
   "execution_count": 203,
   "metadata": {
    "collapsed": false
   },
   "outputs": [
    {
     "name": "stdout",
     "output_type": "stream",
     "text": [
      "   reviewer_id reviewer_name\n",
      "0    113304043           Nur\n",
      "1     43765357        Bobola\n",
      "2     65425263         Casey\n",
      "3     86947196           Leo\n",
      "4      2893570       Solomon\n",
      "5     45022045         Nakaj\n",
      "6     41284227           Ana\n",
      "7     59232157        Andrea\n",
      "8     89184485         Kylie\n",
      "9     82114599          Marc (570681, 2)\n"
     ]
    }
   ],
   "source": [
    "cols = ['reviewer_id', 'reviewer_name']\n",
    "reviewIdAndName = reviews2_nyc.filter(cols, axis=1)\n",
    "reviewIdAndName = reviewIdAndName.drop_duplicates(['reviewer_id'], keep='last')\n",
    "reviewIdAndName = reviewIdAndName.reset_index().drop('index', 1)\n",
    "print reviewIdAndName[:10],reviewIdAndName.shape"
   ]
  },
  {
   "cell_type": "code",
   "execution_count": 136,
   "metadata": {
    "collapsed": false
   },
   "outputs": [
    {
     "name": "stdout",
     "output_type": "stream",
     "text": [
      "0.791989540483\n",
      "0.787748333812\n",
      "0.792531649606\n",
      "0.787142447144\n",
      "0.788417998023\n"
     ]
    }
   ],
   "source": [
    "from sklearn.cross_validation import train_test_split, cross_val_score\n",
    "\n",
    "for x in xrange(5):\n",
    " Xtr, Xte, ytr, yte = train_test_split(trainData, trainResult, test_size=0.33)\n",
    " clf = KNeighborsClassifier(n_neighbors=1)\n",
    " clf.fit(Xtr, ytr)\n",
    " print np.mean(clf.predict(Xte) == yte)"
   ]
  },
  {
   "cell_type": "code",
   "execution_count": 204,
   "metadata": {
    "collapsed": false
   },
   "outputs": [
    {
     "data": {
      "text/plain": [
       "['nur', 'bobola', 'casey', 'leo', 'solomon']"
      ]
     },
     "execution_count": 204,
     "metadata": {},
     "output_type": "execute_result"
    }
   ],
   "source": [
    "reviewerName = reviewIdAndName.as_matrix(columns=['reviewer_name'])\n",
    "reviewerName = np.reshape(reviewerName, 570681)\n",
    "reviewerName = reviewerName.astype('S21')\n",
    "reviewerName = map(lambda w: w.lower(), reviewerName)\n",
    "reviewerName[:5]"
   ]
  },
  {
   "cell_type": "code",
   "execution_count": 205,
   "metadata": {
    "collapsed": false
   },
   "outputs": [],
   "source": [
    "reviewerData = name_map(reviewerName)\n",
    "reviewerData = np.array(reviewerData.tolist())"
   ]
  },
  {
   "cell_type": "code",
   "execution_count": 206,
   "metadata": {
    "collapsed": false
   },
   "outputs": [
    {
     "data": {
      "text/plain": [
       "array(['F', 'F', 'M', 'M', 'M'], \n",
       "      dtype='|S1')"
      ]
     },
     "execution_count": 206,
     "metadata": {},
     "output_type": "execute_result"
    }
   ],
   "source": [
    "reviewerPred = neigh.predict(reviewerData)\n",
    "reviewerPred[:5]"
   ]
  },
  {
   "cell_type": "code",
   "execution_count": 207,
   "metadata": {
    "collapsed": false
   },
   "outputs": [
    {
     "data": {
      "text/html": [
       "<div>\n",
       "<table border=\"1\" class=\"dataframe\">\n",
       "  <thead>\n",
       "    <tr style=\"text-align: right;\">\n",
       "      <th></th>\n",
       "      <th>reviewer_id</th>\n",
       "      <th>reviewer_name</th>\n",
       "      <th>gender</th>\n",
       "    </tr>\n",
       "  </thead>\n",
       "  <tbody>\n",
       "    <tr>\n",
       "      <th>0</th>\n",
       "      <td>113304043</td>\n",
       "      <td>Nur</td>\n",
       "      <td>F</td>\n",
       "    </tr>\n",
       "    <tr>\n",
       "      <th>1</th>\n",
       "      <td>43765357</td>\n",
       "      <td>Bobola</td>\n",
       "      <td>F</td>\n",
       "    </tr>\n",
       "    <tr>\n",
       "      <th>2</th>\n",
       "      <td>65425263</td>\n",
       "      <td>Casey</td>\n",
       "      <td>M</td>\n",
       "    </tr>\n",
       "    <tr>\n",
       "      <th>3</th>\n",
       "      <td>86947196</td>\n",
       "      <td>Leo</td>\n",
       "      <td>M</td>\n",
       "    </tr>\n",
       "    <tr>\n",
       "      <th>4</th>\n",
       "      <td>2893570</td>\n",
       "      <td>Solomon</td>\n",
       "      <td>M</td>\n",
       "    </tr>\n",
       "    <tr>\n",
       "      <th>5</th>\n",
       "      <td>45022045</td>\n",
       "      <td>Nakaj</td>\n",
       "      <td>M</td>\n",
       "    </tr>\n",
       "    <tr>\n",
       "      <th>6</th>\n",
       "      <td>41284227</td>\n",
       "      <td>Ana</td>\n",
       "      <td>F</td>\n",
       "    </tr>\n",
       "    <tr>\n",
       "      <th>7</th>\n",
       "      <td>59232157</td>\n",
       "      <td>Andrea</td>\n",
       "      <td>F</td>\n",
       "    </tr>\n",
       "    <tr>\n",
       "      <th>8</th>\n",
       "      <td>89184485</td>\n",
       "      <td>Kylie</td>\n",
       "      <td>F</td>\n",
       "    </tr>\n",
       "    <tr>\n",
       "      <th>9</th>\n",
       "      <td>82114599</td>\n",
       "      <td>Marc</td>\n",
       "      <td>M</td>\n",
       "    </tr>\n",
       "  </tbody>\n",
       "</table>\n",
       "</div>"
      ],
      "text/plain": [
       "   reviewer_id reviewer_name gender\n",
       "0    113304043           Nur      F\n",
       "1     43765357        Bobola      F\n",
       "2     65425263         Casey      M\n",
       "3     86947196           Leo      M\n",
       "4      2893570       Solomon      M\n",
       "5     45022045         Nakaj      M\n",
       "6     41284227           Ana      F\n",
       "7     59232157        Andrea      F\n",
       "8     89184485         Kylie      F\n",
       "9     82114599          Marc      M"
      ]
     },
     "execution_count": 207,
     "metadata": {},
     "output_type": "execute_result"
    }
   ],
   "source": [
    "reviewer_gender = pd.DataFrame(reviewerPred)\n",
    "reviewer_gender.columns = ['gender']\n",
    "reviewIdAndName = pd.concat([reviewIdAndName, reviewer_gender], axis=1)\n",
    "reviewIdAndName[:10]"
   ]
  },
  {
   "cell_type": "code",
   "execution_count": 214,
   "metadata": {
    "collapsed": false
   },
   "outputs": [],
   "source": [
    "hostIdAndGender.to_csv('data/hostIdAndGender.txt',index=False)\n",
    "reviewIdAndName.to_csv('data/reviewerIdAndName.txt',index=False)"
   ]
  },
  {
   "cell_type": "code",
   "execution_count": 1,
   "metadata": {
    "collapsed": false
   },
   "outputs": [
    {
     "name": "stderr",
     "output_type": "stream",
     "text": [
      "/Users/wangchuyang/anaconda3/envs/py27/lib/python2.7/site-packages/matplotlib/font_manager.py:273: UserWarning:\n",
      "\n",
      "Matplotlib is building the font cache using fc-list. This may take a moment.\n",
      "\n"
     ]
    }
   ],
   "source": [
    "import plotly\n",
    "plotly.tools.set_credentials_file(username='kristenwang', api_key='qDbb3QNRQN61BgpigItg')"
   ]
  },
  {
   "cell_type": "code",
   "execution_count": 42,
   "metadata": {
    "collapsed": false
   },
   "outputs": [
    {
     "data": {
      "text/plain": [
       "gender\n",
       "F    21275\n",
       "M    19319\n",
       "Name: gender, dtype: int64"
      ]
     },
     "execution_count": 42,
     "metadata": {},
     "output_type": "execute_result"
    }
   ],
   "source": [
    "hostIdAndGender = pd.read_csv('data/hostIdAndGender.txt')\n",
    "hostGender = hostIdAndGender.groupby('gender').gender.count()\n",
    "hostGender[:5]"
   ]
  },
  {
   "cell_type": "code",
   "execution_count": 14,
   "metadata": {
    "collapsed": false
   },
   "outputs": [
    {
     "data": {
      "text/plain": [
       "gender\n",
       "F    311461\n",
       "M    259220\n",
       "Name: gender, dtype: int64"
      ]
     },
     "execution_count": 14,
     "metadata": {},
     "output_type": "execute_result"
    }
   ],
   "source": [
    "reviewerIdAndName = pd.read_csv('data/reviewerIdAndName.txt')\n",
    "reviewerGender = reviewerIdAndName.groupby('gender').gender.count()\n",
    "reviewerGender[:5]"
   ]
  },
  {
   "cell_type": "code",
   "execution_count": 56,
   "metadata": {
    "collapsed": false
   },
   "outputs": [
    {
     "name": "stdout",
     "output_type": "stream",
     "text": [
      "High five! You successfuly sent some data to your account on plotly. View your plot in your browser at https://plot.ly/~kristenwang/0 or inside your plot.ly account where it is named 'gender-bar'\n"
     ]
    },
    {
     "data": {
      "text/html": [
       "<iframe id=\"igraph\" scrolling=\"no\" style=\"border:none;\" seamless=\"seamless\" src=\"https://plot.ly/~kristenwang/0.embed\" height=\"525px\" width=\"100%\"></iframe>"
      ],
      "text/plain": [
       "<plotly.tools.PlotlyDisplay object>"
      ]
     },
     "execution_count": 56,
     "metadata": {},
     "output_type": "execute_result"
    }
   ],
   "source": [
    "import plotly.plotly as py\n",
    "import plotly.graph_objs as go\n",
    "\n",
    "trace1 = go.Bar(\n",
    "    x=['hosts', 'reviewers'],\n",
    "    y=[19319, 259220],\n",
    "    name='Male'\n",
    ")\n",
    "trace2 = go.Bar(\n",
    "    x=['hosts', 'reviewers'],\n",
    "    y=[21275, 311461],\n",
    "    name='Female'\n",
    ")\n",
    "\n",
    "data = [trace1, trace2]\n",
    "layout = go.Layout(\n",
    "    barmode='group',\n",
    "    title='Unique hosts and reviewers',\n",
    ")\n",
    "\n",
    "fig = go.Figure(data=data, layout=layout)\n",
    "py.iplot(fig, filename='gender-bar')"
   ]
  },
  {
   "cell_type": "code",
   "execution_count": 31,
   "metadata": {
    "collapsed": false
   },
   "outputs": [
    {
     "data": {
      "text/html": [
       "<div>\n",
       "<table border=\"1\" class=\"dataframe\">\n",
       "  <thead>\n",
       "    <tr style=\"text-align: right;\">\n",
       "      <th></th>\n",
       "      <th>listing_id</th>\n",
       "      <th>reviewer_id</th>\n",
       "      <th>reviewer_name</th>\n",
       "    </tr>\n",
       "  </thead>\n",
       "  <tbody>\n",
       "    <tr>\n",
       "      <th>0</th>\n",
       "      <td>16667077</td>\n",
       "      <td>113304043</td>\n",
       "      <td>Nur</td>\n",
       "    </tr>\n",
       "    <tr>\n",
       "      <th>1</th>\n",
       "      <td>16667077</td>\n",
       "      <td>23545132</td>\n",
       "      <td>Chase</td>\n",
       "    </tr>\n",
       "    <tr>\n",
       "      <th>2</th>\n",
       "      <td>16667077</td>\n",
       "      <td>43765357</td>\n",
       "      <td>Bobola</td>\n",
       "    </tr>\n",
       "    <tr>\n",
       "      <th>3</th>\n",
       "      <td>16667077</td>\n",
       "      <td>114672486</td>\n",
       "      <td>Chengyao</td>\n",
       "    </tr>\n",
       "    <tr>\n",
       "      <th>4</th>\n",
       "      <td>16667077</td>\n",
       "      <td>97166582</td>\n",
       "      <td>Daelan</td>\n",
       "    </tr>\n",
       "    <tr>\n",
       "      <th>5</th>\n",
       "      <td>16667077</td>\n",
       "      <td>65425263</td>\n",
       "      <td>Casey</td>\n",
       "    </tr>\n",
       "    <tr>\n",
       "      <th>6</th>\n",
       "      <td>16667077</td>\n",
       "      <td>86947196</td>\n",
       "      <td>Leo</td>\n",
       "    </tr>\n",
       "    <tr>\n",
       "      <th>7</th>\n",
       "      <td>16667077</td>\n",
       "      <td>2893570</td>\n",
       "      <td>Solomon</td>\n",
       "    </tr>\n",
       "    <tr>\n",
       "      <th>8</th>\n",
       "      <td>13760233</td>\n",
       "      <td>45022045</td>\n",
       "      <td>Nakaj</td>\n",
       "    </tr>\n",
       "    <tr>\n",
       "      <th>9</th>\n",
       "      <td>13760233</td>\n",
       "      <td>41284227</td>\n",
       "      <td>Ana</td>\n",
       "    </tr>\n",
       "  </tbody>\n",
       "</table>\n",
       "</div>"
      ],
      "text/plain": [
       "   listing_id  reviewer_id reviewer_name\n",
       "0    16667077    113304043           Nur\n",
       "1    16667077     23545132         Chase\n",
       "2    16667077     43765357        Bobola\n",
       "3    16667077    114672486      Chengyao\n",
       "4    16667077     97166582        Daelan\n",
       "5    16667077     65425263         Casey\n",
       "6    16667077     86947196           Leo\n",
       "7    16667077      2893570       Solomon\n",
       "8    13760233     45022045         Nakaj\n",
       "9    13760233     41284227           Ana"
      ]
     },
     "execution_count": 31,
     "metadata": {},
     "output_type": "execute_result"
    }
   ],
   "source": [
    "listing_cols = ['listing_id','reviewer_id', 'reviewer_name']\n",
    "listing_id_and_reviewer = reviews2_nyc.filter(listing_cols, axis=1)\n",
    "listing_id_and_reviewer[:10]"
   ]
  },
  {
   "cell_type": "code",
   "execution_count": 32,
   "metadata": {
    "collapsed": false
   },
   "outputs": [
    {
     "data": {
      "text/plain": [
       "['F', 'M', 'F', 'F', 'M', 'M', 'M', 'M', 'M', 'F']"
      ]
     },
     "execution_count": 32,
     "metadata": {},
     "output_type": "execute_result"
    }
   ],
   "source": [
    "#reviewerIdAndName.index.get_loc('113304043')\n",
    "gender = []\n",
    "for reviewer in listing_id_and_reviewer.reviewer_id:\n",
    "    a = reviewerIdAndName[reviewerIdAndName.reviewer_id == reviewer].index[0]\n",
    "    gender.append(reviewerIdAndName.iloc[a].gender)\n",
    "    \n",
    "gender[:10]"
   ]
  },
  {
   "cell_type": "code",
   "execution_count": 38,
   "metadata": {
    "collapsed": false
   },
   "outputs": [
    {
     "name": "stdout",
     "output_type": "stream",
     "text": [
      "646717 (646717, 3)\n"
     ]
    }
   ],
   "source": [
    "print len(gender),listing_id_and_reviewer.shape"
   ]
  },
  {
   "cell_type": "code",
   "execution_count": 41,
   "metadata": {
    "collapsed": false
   },
   "outputs": [
    {
     "data": {
      "text/html": [
       "<div>\n",
       "<table border=\"1\" class=\"dataframe\">\n",
       "  <thead>\n",
       "    <tr style=\"text-align: right;\">\n",
       "      <th></th>\n",
       "      <th>listing_id</th>\n",
       "      <th>reviewer_id</th>\n",
       "      <th>reviewer_name</th>\n",
       "      <th>reviewer_gender</th>\n",
       "    </tr>\n",
       "  </thead>\n",
       "  <tbody>\n",
       "    <tr>\n",
       "      <th>0</th>\n",
       "      <td>16667077</td>\n",
       "      <td>113304043</td>\n",
       "      <td>Nur</td>\n",
       "      <td>F</td>\n",
       "    </tr>\n",
       "    <tr>\n",
       "      <th>1</th>\n",
       "      <td>16667077</td>\n",
       "      <td>23545132</td>\n",
       "      <td>Chase</td>\n",
       "      <td>M</td>\n",
       "    </tr>\n",
       "    <tr>\n",
       "      <th>2</th>\n",
       "      <td>16667077</td>\n",
       "      <td>43765357</td>\n",
       "      <td>Bobola</td>\n",
       "      <td>F</td>\n",
       "    </tr>\n",
       "    <tr>\n",
       "      <th>3</th>\n",
       "      <td>16667077</td>\n",
       "      <td>114672486</td>\n",
       "      <td>Chengyao</td>\n",
       "      <td>F</td>\n",
       "    </tr>\n",
       "    <tr>\n",
       "      <th>4</th>\n",
       "      <td>16667077</td>\n",
       "      <td>97166582</td>\n",
       "      <td>Daelan</td>\n",
       "      <td>M</td>\n",
       "    </tr>\n",
       "  </tbody>\n",
       "</table>\n",
       "</div>"
      ],
      "text/plain": [
       "   listing_id  reviewer_id reviewer_name reviewer_gender\n",
       "0    16667077    113304043           Nur               F\n",
       "1    16667077     23545132         Chase               M\n",
       "2    16667077     43765357        Bobola               F\n",
       "3    16667077    114672486      Chengyao               F\n",
       "4    16667077     97166582        Daelan               M"
      ]
     },
     "execution_count": 41,
     "metadata": {},
     "output_type": "execute_result"
    }
   ],
   "source": [
    "review_gender = np.asarray(gender)\n",
    "review_gender = pd.DataFrame(review_gender)\n",
    "review_gender.columns = ['reviewer_gender']\n",
    "listing_id_and_reviewer = pd.concat([listing_id_and_reviewer, review_gender], axis=1)\n",
    "listing_id_and_reviewer[:5]"
   ]
  },
  {
   "cell_type": "code",
   "execution_count": 60,
   "metadata": {
    "collapsed": false
   },
   "outputs": [
    {
     "data": {
      "text/plain": [
       "['M',\n",
       " 'M',\n",
       " 'M',\n",
       " 'M',\n",
       " 'M',\n",
       " 'M',\n",
       " 'M',\n",
       " 'M',\n",
       " 'F',\n",
       " 'F',\n",
       " 'M',\n",
       " 'M',\n",
       " 'M',\n",
       " 'M',\n",
       " 'F',\n",
       " 'F',\n",
       " 'F',\n",
       " 'F',\n",
       " 'F',\n",
       " 'F']"
      ]
     },
     "execution_count": 60,
     "metadata": {},
     "output_type": "execute_result"
    }
   ],
   "source": [
    "host_gender = []\n",
    "for listing in listing_id_and_reviewer.listing_id:\n",
    "    if listing in hostIdAndGender.id.values:\n",
    "        b = hostIdAndGender[hostIdAndGender.id == listing].index[0]\n",
    "        host_gender.append(hostIdAndGender.iloc[b].gender)\n",
    "    else:\n",
    "        host_gender.append('Unknown')\n",
    "    \n",
    "host_gender[:20]"
   ]
  },
  {
   "cell_type": "code",
   "execution_count": 62,
   "metadata": {
    "collapsed": false
   },
   "outputs": [
    {
     "data": {
      "text/html": [
       "<div>\n",
       "<table border=\"1\" class=\"dataframe\">\n",
       "  <thead>\n",
       "    <tr style=\"text-align: right;\">\n",
       "      <th></th>\n",
       "      <th>listing_id</th>\n",
       "      <th>reviewer_id</th>\n",
       "      <th>reviewer_name</th>\n",
       "      <th>reviewer_gender</th>\n",
       "      <th>host_gender</th>\n",
       "    </tr>\n",
       "  </thead>\n",
       "  <tbody>\n",
       "    <tr>\n",
       "      <th>0</th>\n",
       "      <td>16667077</td>\n",
       "      <td>113304043</td>\n",
       "      <td>Nur</td>\n",
       "      <td>F</td>\n",
       "      <td>M</td>\n",
       "    </tr>\n",
       "    <tr>\n",
       "      <th>1</th>\n",
       "      <td>16667077</td>\n",
       "      <td>23545132</td>\n",
       "      <td>Chase</td>\n",
       "      <td>M</td>\n",
       "      <td>M</td>\n",
       "    </tr>\n",
       "    <tr>\n",
       "      <th>2</th>\n",
       "      <td>16667077</td>\n",
       "      <td>43765357</td>\n",
       "      <td>Bobola</td>\n",
       "      <td>F</td>\n",
       "      <td>M</td>\n",
       "    </tr>\n",
       "    <tr>\n",
       "      <th>3</th>\n",
       "      <td>16667077</td>\n",
       "      <td>114672486</td>\n",
       "      <td>Chengyao</td>\n",
       "      <td>F</td>\n",
       "      <td>M</td>\n",
       "    </tr>\n",
       "    <tr>\n",
       "      <th>4</th>\n",
       "      <td>16667077</td>\n",
       "      <td>97166582</td>\n",
       "      <td>Daelan</td>\n",
       "      <td>M</td>\n",
       "      <td>M</td>\n",
       "    </tr>\n",
       "  </tbody>\n",
       "</table>\n",
       "</div>"
      ],
      "text/plain": [
       "   listing_id  reviewer_id reviewer_name reviewer_gender host_gender\n",
       "0    16667077    113304043           Nur               F           M\n",
       "1    16667077     23545132         Chase               M           M\n",
       "2    16667077     43765357        Bobola               F           M\n",
       "3    16667077    114672486      Chengyao               F           M\n",
       "4    16667077     97166582        Daelan               M           M"
      ]
     },
     "execution_count": 62,
     "metadata": {},
     "output_type": "execute_result"
    }
   ],
   "source": [
    "host_gender = np.asarray(host_gender)\n",
    "host_gender = pd.DataFrame(host_gender)\n",
    "host_gender.columns = ['host_gender']\n",
    "listing_id_and_reviewer = pd.concat([listing_id_and_reviewer, host_gender], axis=1)\n",
    "listing_id_and_reviewer[:5]"
   ]
  },
  {
   "cell_type": "code",
   "execution_count": 63,
   "metadata": {
    "collapsed": true
   },
   "outputs": [],
   "source": [
    "listing_id_and_reviewer.to_csv('data/listing_and_reviewer_id_gender.csv',index=False)"
   ]
  },
  {
   "cell_type": "code",
   "execution_count": 67,
   "metadata": {
    "collapsed": false
   },
   "outputs": [
    {
     "name": "stdout",
     "output_type": "stream",
     "text": [
      "host_gender  reviewer_gender\n",
      "F            F                  178337\n",
      "             M                  141681\n",
      "M            F                  170528\n",
      "             M                  155817\n",
      "Unknown      F                     190\n",
      "             M                     164\n",
      "Name: reviewer_gender, dtype: int64\n"
     ]
    }
   ],
   "source": [
    "host_reviewer_gender = listing_id_and_reviewer.groupby(['host_gender','reviewer_gender']).reviewer_gender.count()\n",
    "print host_reviewer_gender"
   ]
  },
  {
   "cell_type": "code",
   "execution_count": 163,
   "metadata": {
    "collapsed": false
   },
   "outputs": [
    {
     "data": {
      "text/html": [
       "<iframe id=\"igraph\" scrolling=\"no\" style=\"border:none;\" seamless=\"seamless\" src=\"https://plot.ly/~kristenwang/2.embed\" height=\"525px\" width=\"100%\"></iframe>"
      ],
      "text/plain": [
       "<plotly.tools.PlotlyDisplay object>"
      ]
     },
     "execution_count": 163,
     "metadata": {},
     "output_type": "execute_result"
    }
   ],
   "source": [
    "female_reviewer = go.Bar(\n",
    "    x=[ 'Male_Host', 'Female_Host','Unlisted_Host'],\n",
    "    y=[170528, 178337, 190],\n",
    "    name='Female_Reviewer'\n",
    ")\n",
    "male_reviewer = go.Bar(\n",
    "    x=['Male_Host','Female_Host', 'Unlisted_Host'],\n",
    "    y=[ 155817, 141681, 164],\n",
    "    name='Male_Reviewer'\n",
    ")\n",
    "\n",
    "host_reviewer_data = [male_reviewer, female_reviewer]\n",
    "host_reviewer_layout = go.Layout(\n",
    "    barmode='group',\n",
    "    title='Gender of Reviewers to Gender of Hosts'\n",
    ")\n",
    "\n",
    "fig1 = go.Figure(data=host_reviewer_data, layout=host_reviewer_layout)\n",
    "py.iplot(fig1, filename='host_reviewer_gender_bar')"
   ]
  },
  {
   "cell_type": "code",
   "execution_count": 186,
   "metadata": {
    "collapsed": false
   },
   "outputs": [
    {
     "data": {
      "text/html": [
       "<div>\n",
       "<table border=\"1\" class=\"dataframe\">\n",
       "  <thead>\n",
       "    <tr style=\"text-align: right;\">\n",
       "      <th></th>\n",
       "      <th>listing_id</th>\n",
       "      <th>date</th>\n",
       "      <th>comments</th>\n",
       "      <th>reviewer_name</th>\n",
       "      <th>reviewer_gender</th>\n",
       "      <th>month</th>\n",
       "    </tr>\n",
       "  </thead>\n",
       "  <tbody>\n",
       "    <tr>\n",
       "      <th>0</th>\n",
       "      <td>16667077</td>\n",
       "      <td>2017-02-03</td>\n",
       "      <td>exactly the same place like the pics- i apprec...</td>\n",
       "      <td>Nur</td>\n",
       "      <td>F</td>\n",
       "      <td>02</td>\n",
       "    </tr>\n",
       "    <tr>\n",
       "      <th>1</th>\n",
       "      <td>16667077</td>\n",
       "      <td>2017-02-10</td>\n",
       "      <td>Strong recommend!</td>\n",
       "      <td>Chase</td>\n",
       "      <td>M</td>\n",
       "      <td>02</td>\n",
       "    </tr>\n",
       "    <tr>\n",
       "      <th>2</th>\n",
       "      <td>16667077</td>\n",
       "      <td>2017-02-17</td>\n",
       "      <td>This place is as described, a perfect and comf...</td>\n",
       "      <td>Bobola</td>\n",
       "      <td>F</td>\n",
       "      <td>02</td>\n",
       "    </tr>\n",
       "    <tr>\n",
       "      <th>3</th>\n",
       "      <td>16667077</td>\n",
       "      <td>2017-03-02</td>\n",
       "      <td>Nice place!</td>\n",
       "      <td>Chengyao</td>\n",
       "      <td>F</td>\n",
       "      <td>03</td>\n",
       "    </tr>\n",
       "    <tr>\n",
       "      <th>4</th>\n",
       "      <td>16667077</td>\n",
       "      <td>2017-03-03</td>\n",
       "      <td>The apartment was clean and just as described....</td>\n",
       "      <td>Daelan</td>\n",
       "      <td>M</td>\n",
       "      <td>03</td>\n",
       "    </tr>\n",
       "  </tbody>\n",
       "</table>\n",
       "</div>"
      ],
      "text/plain": [
       "   listing_id        date                                           comments  \\\n",
       "0    16667077  2017-02-03  exactly the same place like the pics- i apprec...   \n",
       "1    16667077  2017-02-10                                  Strong recommend!   \n",
       "2    16667077  2017-02-17  This place is as described, a perfect and comf...   \n",
       "3    16667077  2017-03-02                                        Nice place!   \n",
       "4    16667077  2017-03-03  The apartment was clean and just as described....   \n",
       "\n",
       "  reviewer_name reviewer_gender month  \n",
       "0           Nur               F    02  \n",
       "1         Chase               M    02  \n",
       "2        Bobola               F    02  \n",
       "3      Chengyao               F    03  \n",
       "4        Daelan               M    03  "
      ]
     },
     "execution_count": 186,
     "metadata": {},
     "output_type": "execute_result"
    }
   ],
   "source": [
    "date_cols = ['listing_id','date','comments','reviewer_name']\n",
    "date_and_reviewer = reviews2_nyc.filter(date_cols, axis=1)\n",
    "date_and_reviewer = pd.concat([date_and_reviewer, review_gender], axis=1)\n",
    "month = (date_and_reviewer['date'].str.split('-').str[1])\n",
    "month = month.reset_index().drop('index', 1)\n",
    "month.columns = ['month']\n",
    "date_and_reviewer = pd.concat([date_and_reviewer, month], axis=1)\n",
    "date_and_reviewer[:5]"
   ]
  },
  {
   "cell_type": "code",
   "execution_count": 190,
   "metadata": {
    "collapsed": false
   },
   "outputs": [
    {
     "name": "stdout",
     "output_type": "stream",
     "text": [
      "month  reviewer_gender\n",
      "01     F                  25902\n",
      "       M                  23655\n",
      "02     F                  19191\n",
      "       M                  17673\n",
      "03     F                  28745\n",
      "       M                  25038\n",
      "04     F                  20923\n",
      "       M                  17095\n",
      "05     F                  28580\n",
      "       M                  23076\n",
      "06     F                  25860\n",
      "       M                  21599\n",
      "07     F                  25439\n",
      "       M                  21634\n",
      "08     F                  30961\n",
      "       M                  26188\n",
      "09     F                  39038\n",
      "       M                  33138\n",
      "10     F                  42163\n",
      "       M                  34443\n",
      "11     F                  30761\n",
      "       M                  27077\n",
      "12     F                  31492\n",
      "       M                  27046\n",
      "Name: reviewer_gender, dtype: int64\n"
     ]
    }
   ],
   "source": [
    "date_and_reviewer_gender = date_and_reviewer.groupby(['month','reviewer_gender']).reviewer_gender.count()\n",
    "print date_and_reviewer_gender"
   ]
  },
  {
   "cell_type": "code",
   "execution_count": 214,
   "metadata": {
    "collapsed": false
   },
   "outputs": [
    {
     "data": {
      "text/html": [
       "<iframe id=\"igraph\" scrolling=\"no\" style=\"border:none;\" seamless=\"seamless\" src=\"https://plot.ly/~kristenwang/10.embed\" height=\"525px\" width=\"100%\"></iframe>"
      ],
      "text/plain": [
       "<plotly.tools.PlotlyDisplay object>"
      ]
     },
     "execution_count": 214,
     "metadata": {},
     "output_type": "execute_result"
    }
   ],
   "source": [
    "month_x = ['Jan', 'Feb', 'Mar', 'Apr', 'May', 'Jun','Jul', 'Aug', 'Sep', 'Oct', 'Nov', 'Dec']\n",
    "weather_and_male = go.Bar(\n",
    "    x=month_x,\n",
    "    y=[23655, 17673, 25038,17095,23076,21599,21634,26188,33138,34443,27077,27046],\n",
    "    name='Male Reviewers'\n",
    ")\n",
    "weather_and_female = go.Bar(\n",
    "    x=month_x,\n",
    "    y=[25902, 19191, 28745,20923,28580,25860,25439,30961,39038,42163,30761,31492],\n",
    "    name='Female Reviewers'\n",
    ")\n",
    "\n",
    "weather_and_gender_data = [weather_and_male, weather_and_female]\n",
    "weather_and_gender_layout = go.Layout(\n",
    "    barmode='stack',\n",
    "    title='Number of Reviews based on Weather - New York',\n",
    "    xaxis=dict(tickangle=-45),\n",
    ")\n",
    "\n",
    "weather_and_gender_fig = go.Figure(data=weather_and_gender_data, layout=weather_and_gender_layout)\n",
    "py.iplot(weather_and_gender_fig, filename='weather_and_gender_bar')"
   ]
  },
  {
   "cell_type": "code",
   "execution_count": 196,
   "metadata": {
    "collapsed": false
   },
   "outputs": [
    {
     "name": "stdout",
     "output_type": "stream",
     "text": [
      "   reviewer_id reviewer_name\n",
      "0        49913          Sean\n",
      "1     38552007           Jon\n",
      "2     33218898         Gregg\n",
      "3     51417647          Faiz\n",
      "4     49757126     Elizabeth (193123, 2)\n"
     ]
    }
   ],
   "source": [
    "reviews_sf = pd.read_csv('../sf/reviews.csv')\n",
    "reviews_sf.head(2)\n",
    "cols_review_id_name = ['reviewer_id', 'reviewer_name']\n",
    "reviewIdAndName_sf = reviews_sf.filter(cols_review_id_name, axis=1)\n",
    "reviewIdAndName_sf = reviewIdAndName_sf.drop_duplicates(['reviewer_id'], keep='last')\n",
    "reviewIdAndName_sf = reviewIdAndName_sf.reset_index().drop('index', 1)\n",
    "print reviewIdAndName_sf[:5],reviewIdAndName_sf.shape"
   ]
  },
  {
   "cell_type": "code",
   "execution_count": 204,
   "metadata": {
    "collapsed": false
   },
   "outputs": [
    {
     "name": "stdout",
     "output_type": "stream",
     "text": [
      "['sean', 'jon', 'gregg', 'faiz', 'elizabeth']\n"
     ]
    }
   ],
   "source": [
    "reviewerName_sf = reviewIdAndName_sf.as_matrix(columns=['reviewer_name'])\n",
    "reviewerName_sf = np.reshape(reviewerName_sf, 193123)\n",
    "reviewerName_sf = reviewerName_sf.astype('S21')\n",
    "reviewerName_sf = map(lambda w: w.lower(), reviewerName_sf)\n",
    "reviewerData_sf = name_map(reviewerName_sf)\n",
    "reviewerData_sf = np.array(reviewerData_sf.tolist())\n",
    "print reviewerName_sf[:5]"
   ]
  },
  {
   "cell_type": "code",
   "execution_count": 205,
   "metadata": {
    "collapsed": false
   },
   "outputs": [
    {
     "data": {
      "text/plain": [
       "array(['M', 'M', 'M', 'M', 'F'], \n",
       "      dtype='|S1')"
      ]
     },
     "execution_count": 205,
     "metadata": {},
     "output_type": "execute_result"
    }
   ],
   "source": [
    "reviewerPred_sf = neigh.predict(reviewerData_sf)\n",
    "reviewerPred_sf[:5]"
   ]
  },
  {
   "cell_type": "code",
   "execution_count": 206,
   "metadata": {
    "collapsed": false
   },
   "outputs": [
    {
     "data": {
      "text/html": [
       "<div>\n",
       "<table border=\"1\" class=\"dataframe\">\n",
       "  <thead>\n",
       "    <tr style=\"text-align: right;\">\n",
       "      <th></th>\n",
       "      <th>reviewer_id</th>\n",
       "      <th>reviewer_name</th>\n",
       "      <th>gender</th>\n",
       "    </tr>\n",
       "  </thead>\n",
       "  <tbody>\n",
       "    <tr>\n",
       "      <th>0</th>\n",
       "      <td>49913</td>\n",
       "      <td>Sean</td>\n",
       "      <td>M</td>\n",
       "    </tr>\n",
       "    <tr>\n",
       "      <th>1</th>\n",
       "      <td>38552007</td>\n",
       "      <td>Jon</td>\n",
       "      <td>M</td>\n",
       "    </tr>\n",
       "    <tr>\n",
       "      <th>2</th>\n",
       "      <td>33218898</td>\n",
       "      <td>Gregg</td>\n",
       "      <td>M</td>\n",
       "    </tr>\n",
       "    <tr>\n",
       "      <th>3</th>\n",
       "      <td>51417647</td>\n",
       "      <td>Faiz</td>\n",
       "      <td>M</td>\n",
       "    </tr>\n",
       "    <tr>\n",
       "      <th>4</th>\n",
       "      <td>49757126</td>\n",
       "      <td>Elizabeth</td>\n",
       "      <td>F</td>\n",
       "    </tr>\n",
       "  </tbody>\n",
       "</table>\n",
       "</div>"
      ],
      "text/plain": [
       "   reviewer_id reviewer_name gender\n",
       "0        49913          Sean      M\n",
       "1     38552007           Jon      M\n",
       "2     33218898         Gregg      M\n",
       "3     51417647          Faiz      M\n",
       "4     49757126     Elizabeth      F"
      ]
     },
     "execution_count": 206,
     "metadata": {},
     "output_type": "execute_result"
    }
   ],
   "source": [
    "reviewer_gender_sf = pd.DataFrame(reviewerPred_sf)\n",
    "reviewer_gender_sf.columns = ['gender']\n",
    "reviewIdAndName_sf = pd.concat([reviewIdAndName_sf, reviewer_gender_sf], axis=1)\n"
   ]
  },
  {
   "cell_type": "code",
   "execution_count": 207,
   "metadata": {
    "collapsed": true
   },
   "outputs": [],
   "source": [
    "reviewIdAndName_sf.to_csv('data/reviewIdAndName_sf.txt',index=False)"
   ]
  },
  {
   "cell_type": "code",
   "execution_count": 210,
   "metadata": {
    "collapsed": false
   },
   "outputs": [
    {
     "data": {
      "text/plain": [
       "['M', 'M', 'M', 'M', 'M']"
      ]
     },
     "execution_count": 210,
     "metadata": {},
     "output_type": "execute_result"
    }
   ],
   "source": [
    "listing_review_cols_sf = ['listing_id', 'reviewer_id', 'reviewer_name']\n",
    "listing_id_and_reviewer_sf = reviews_sf.filter(listing_review_cols_sf, axis=1)\n",
    "reviewer_gender_sf = []\n",
    "for reviewer in listing_id_and_reviewer_sf.reviewer_id:\n",
    "    a = reviewIdAndName_sf[reviewIdAndName_sf.reviewer_id == reviewer].index[0]\n",
    "    reviewer_gender_sf.append(reviewIdAndName_sf.iloc[a].gender)\n",
    "    \n",
    "reviewer_gender_sf[:5]"
   ]
  },
  {
   "cell_type": "code",
   "execution_count": 213,
   "metadata": {
    "collapsed": false
   },
   "outputs": [
    {
     "name": "stdout",
     "output_type": "stream",
     "text": [
      "month  reviewer_gender\n",
      "01     F                   8550\n",
      "       M                   9268\n",
      "02     F                   8284\n",
      "       M                   9124\n",
      "03     F                   9838\n",
      "       M                  10156\n",
      "04     F                   6151\n",
      "       M                   5888\n",
      "05     F                   8139\n",
      "       M                   7580\n",
      "06     F                   8311\n",
      "       M                   8073\n",
      "07     F                   9674\n",
      "       M                   8857\n",
      "08     F                  12153\n",
      "       M                  11023\n",
      "09     F                  11501\n",
      "       M                  11116\n",
      "10     F                  11964\n",
      "       M                  11352\n",
      "11     F                   7330\n",
      "       M                   7596\n",
      "12     F                   6757\n",
      "       M                   6956\n",
      "Name: reviewer_gender, dtype: int64\n"
     ]
    }
   ],
   "source": [
    "review_gender_sf = np.asarray(reviewer_gender_sf)\n",
    "review_gender_sf = pd.DataFrame(review_gender_sf)\n",
    "review_gender_sf.columns = ['reviewer_gender']\n",
    "date_cols_sf = ['listing_id','date','comments','reviewer_name']\n",
    "date_and_reviewer_sf = reviews_sf.filter(date_cols, axis=1)\n",
    "date_and_reviewer_sf = pd.concat([date_and_reviewer_sf, review_gender_sf], axis=1)\n",
    "month_sf = (date_and_reviewer_sf['date'].str.split('-').str[1])\n",
    "month_sf = month_sf.reset_index().drop('index', 1)\n",
    "month_sf.columns = ['month']\n",
    "date_and_reviewer_sf = pd.concat([date_and_reviewer_sf, month_sf], axis=1)\n",
    "date_and_reviewer_gender_sf = date_and_reviewer_sf.groupby(['month','reviewer_gender']).reviewer_gender.count()\n",
    "print date_and_reviewer_gender_sf"
   ]
  },
  {
   "cell_type": "code",
   "execution_count": 215,
   "metadata": {
    "collapsed": false
   },
   "outputs": [
    {
     "data": {
      "text/html": [
       "<iframe id=\"igraph\" scrolling=\"no\" style=\"border:none;\" seamless=\"seamless\" src=\"https://plot.ly/~kristenwang/12.embed\" height=\"525px\" width=\"100%\"></iframe>"
      ],
      "text/plain": [
       "<plotly.tools.PlotlyDisplay object>"
      ]
     },
     "execution_count": 215,
     "metadata": {},
     "output_type": "execute_result"
    }
   ],
   "source": [
    "month_x = ['Jan', 'Feb', 'Mar', 'Apr', 'May', 'Jun','Jul', 'Aug', 'Sep', 'Oct', 'Nov', 'Dec']\n",
    "weather_and_male_sf = go.Bar(\n",
    "    x=month_x,\n",
    "    y=[9268, 9124, 10156,5888,7580,8073,8857,11023,11116,11352,7596,6956],\n",
    "    name='Male Reviewers'\n",
    ")\n",
    "weather_and_female_sf = go.Bar(\n",
    "    x=month_x,\n",
    "    y=[8550, 8284, 9838,6151,8139,8311,9674,12153,11501,11964,7330,6757],\n",
    "    name='Female Reviewers'\n",
    ")\n",
    "\n",
    "weather_and_gender_data_sf = [weather_and_male_sf, weather_and_female_sf]\n",
    "weather_and_gender_layout_sf = go.Layout(\n",
    "    barmode='stack',\n",
    "    title='Number of Reviews based on Weather - San Francisco',\n",
    "    xaxis=dict(tickangle=-45),\n",
    ")\n",
    "\n",
    "weather_and_gender_fig_sf = go.Figure(data=weather_and_gender_data_sf, layout=weather_and_gender_layout_sf)\n",
    "py.iplot(weather_and_gender_fig_sf, filename='weather_and_gender_bar_sf')"
   ]
  },
  {
   "cell_type": "code",
   "execution_count": null,
   "metadata": {
    "collapsed": true
   },
   "outputs": [],
   "source": []
  },
  {
   "cell_type": "code",
   "execution_count": null,
   "metadata": {
    "collapsed": true
   },
   "outputs": [],
   "source": []
  },
  {
   "cell_type": "code",
   "execution_count": null,
   "metadata": {
    "collapsed": true
   },
   "outputs": [],
   "source": []
  },
  {
   "cell_type": "code",
   "execution_count": 100,
   "metadata": {
    "collapsed": false
   },
   "outputs": [
    {
     "data": {
      "text/plain": [
       "(40594, 10)"
      ]
     },
     "execution_count": 100,
     "metadata": {},
     "output_type": "execute_result"
    }
   ],
   "source": [
    "cols_score = ['id','host_name','number_of_reviews','review_scores_rating',\n",
    "       'review_scores_accuracy', 'review_scores_cleanliness',\n",
    "       'review_scores_checkin', 'review_scores_communication',\n",
    "       'review_scores_location', 'review_scores_value']\n",
    "host_score = listings_nyc.filter(cols_score, axis=1)\n",
    "host_score = host_score.dropna(subset = ['id','host_name'])\n",
    "host_score.shape"
   ]
  },
  {
   "cell_type": "code",
   "execution_count": 101,
   "metadata": {
    "collapsed": false
   },
   "outputs": [
    {
     "data": {
      "text/html": [
       "<div>\n",
       "<table border=\"1\" class=\"dataframe\">\n",
       "  <thead>\n",
       "    <tr style=\"text-align: right;\">\n",
       "      <th></th>\n",
       "      <th>id</th>\n",
       "      <th>host_name</th>\n",
       "      <th>number_of_reviews</th>\n",
       "      <th>review_scores_rating</th>\n",
       "      <th>review_scores_accuracy</th>\n",
       "      <th>review_scores_cleanliness</th>\n",
       "      <th>review_scores_checkin</th>\n",
       "      <th>review_scores_communication</th>\n",
       "      <th>review_scores_location</th>\n",
       "      <th>review_scores_value</th>\n",
       "      <th>gender</th>\n",
       "    </tr>\n",
       "  </thead>\n",
       "  <tbody>\n",
       "    <tr>\n",
       "      <th>0</th>\n",
       "      <td>1475427.0</td>\n",
       "      <td>Daveyjoe!</td>\n",
       "      <td>7.0</td>\n",
       "      <td>100.0</td>\n",
       "      <td>10.0</td>\n",
       "      <td>10.0</td>\n",
       "      <td>10.0</td>\n",
       "      <td>10.0</td>\n",
       "      <td>10.0</td>\n",
       "      <td>10.0</td>\n",
       "      <td>M</td>\n",
       "    </tr>\n",
       "    <tr>\n",
       "      <th>1</th>\n",
       "      <td>14653286.0</td>\n",
       "      <td>Jillian</td>\n",
       "      <td>3.0</td>\n",
       "      <td>90.0</td>\n",
       "      <td>10.0</td>\n",
       "      <td>9.0</td>\n",
       "      <td>7.0</td>\n",
       "      <td>8.0</td>\n",
       "      <td>9.0</td>\n",
       "      <td>9.0</td>\n",
       "      <td>F</td>\n",
       "    </tr>\n",
       "    <tr>\n",
       "      <th>3</th>\n",
       "      <td>11767644.0</td>\n",
       "      <td>Demetra</td>\n",
       "      <td>21.0</td>\n",
       "      <td>100.0</td>\n",
       "      <td>10.0</td>\n",
       "      <td>10.0</td>\n",
       "      <td>10.0</td>\n",
       "      <td>10.0</td>\n",
       "      <td>10.0</td>\n",
       "      <td>10.0</td>\n",
       "      <td>F</td>\n",
       "    </tr>\n",
       "    <tr>\n",
       "      <th>4</th>\n",
       "      <td>15043788.0</td>\n",
       "      <td>Nurcan</td>\n",
       "      <td>24.0</td>\n",
       "      <td>93.0</td>\n",
       "      <td>10.0</td>\n",
       "      <td>9.0</td>\n",
       "      <td>10.0</td>\n",
       "      <td>10.0</td>\n",
       "      <td>10.0</td>\n",
       "      <td>10.0</td>\n",
       "      <td>F</td>\n",
       "    </tr>\n",
       "    <tr>\n",
       "      <th>5</th>\n",
       "      <td>14650584.0</td>\n",
       "      <td>Josefina</td>\n",
       "      <td>1.0</td>\n",
       "      <td>100.0</td>\n",
       "      <td>8.0</td>\n",
       "      <td>10.0</td>\n",
       "      <td>10.0</td>\n",
       "      <td>10.0</td>\n",
       "      <td>8.0</td>\n",
       "      <td>10.0</td>\n",
       "      <td>F</td>\n",
       "    </tr>\n",
       "  </tbody>\n",
       "</table>\n",
       "</div>"
      ],
      "text/plain": [
       "           id  host_name  number_of_reviews  review_scores_rating  \\\n",
       "0   1475427.0  Daveyjoe!                7.0                 100.0   \n",
       "1  14653286.0    Jillian                3.0                  90.0   \n",
       "3  11767644.0    Demetra               21.0                 100.0   \n",
       "4  15043788.0     Nurcan               24.0                  93.0   \n",
       "5  14650584.0   Josefina                1.0                 100.0   \n",
       "\n",
       "   review_scores_accuracy  review_scores_cleanliness  review_scores_checkin  \\\n",
       "0                    10.0                       10.0                   10.0   \n",
       "1                    10.0                        9.0                    7.0   \n",
       "3                    10.0                       10.0                   10.0   \n",
       "4                    10.0                        9.0                   10.0   \n",
       "5                     8.0                       10.0                   10.0   \n",
       "\n",
       "   review_scores_communication  review_scores_location  review_scores_value  \\\n",
       "0                         10.0                    10.0                 10.0   \n",
       "1                          8.0                     9.0                  9.0   \n",
       "3                         10.0                    10.0                 10.0   \n",
       "4                         10.0                    10.0                 10.0   \n",
       "5                         10.0                     8.0                 10.0   \n",
       "\n",
       "  gender  \n",
       "0      M  \n",
       "1      F  \n",
       "3      F  \n",
       "4      F  \n",
       "5      F  "
      ]
     },
     "execution_count": 101,
     "metadata": {},
     "output_type": "execute_result"
    }
   ],
   "source": [
    "#pd.concat([hostIdAndName, host_gender], axis=1)\n",
    "host_score = pd.concat([host_score,hostIdAndGender.gender], axis=1)\n",
    "host_score = host_score.dropna()\n",
    "host_score[:5]"
   ]
  },
  {
   "cell_type": "code",
   "execution_count": 102,
   "metadata": {
    "collapsed": false
   },
   "outputs": [
    {
     "data": {
      "text/plain": [
       "(30282, 11)"
      ]
     },
     "execution_count": 102,
     "metadata": {},
     "output_type": "execute_result"
    }
   ],
   "source": [
    "host_score.shape"
   ]
  },
  {
   "cell_type": "code",
   "execution_count": 105,
   "metadata": {
    "collapsed": false
   },
   "outputs": [
    {
     "name": "stdout",
     "output_type": "stream",
     "text": [
      "(14438, 11) (15844, 11)\n"
     ]
    }
   ],
   "source": [
    "male_host_scroe = host_score.query('gender == \"M\"')\n",
    "female_host_scroe = host_score.query('gender == \"F\"')\n",
    "print male_host_scroe.shape, female_host_scroe.shape"
   ]
  },
  {
   "cell_type": "code",
   "execution_count": 162,
   "metadata": {
    "collapsed": false
   },
   "outputs": [],
   "source": [
    "heatmap_z_1 = np.zeros(10)\n",
    "for scores in male_host_scroe.review_scores_accuracy:\n",
    "        heatmap_z_1[int(scores)-1] += 1\n",
    "heatmap_z_2 = np.zeros(10)\n",
    "for scores in male_host_scroe.review_scores_cleanliness:\n",
    "        heatmap_z_2[int(scores)-1] += 1\n",
    "heatmap_z_3 = np.zeros(10)\n",
    "for scores in male_host_scroe.review_scores_checkin:\n",
    "        heatmap_z_3[int(scores)-1] += 1\n",
    "heatmap_z_4 = np.zeros(10)\n",
    "for scores in male_host_scroe.review_scores_communication:\n",
    "        heatmap_z_4[int(scores)-1] += 1\n",
    "heatmap_z_5 = np.zeros(10)\n",
    "for scores in male_host_scroe.review_scores_location:\n",
    "        heatmap_z_5[int(scores)-1] += 1\n",
    "heatmap_z_6 = np.zeros(10)\n",
    "for scores in male_host_scroe.review_scores_value:\n",
    "        heatmap_z_6[int(scores)-1] += 1\n",
    "heatmap_z_7 = np.zeros(10)\n",
    "for scores in female_host_scroe.review_scores_accuracy:\n",
    "        heatmap_z_7[int(scores)-1] += 1\n",
    "heatmap_z_8 = np.zeros(10)\n",
    "for scores in female_host_scroe.review_scores_cleanliness:\n",
    "        heatmap_z_8[int(scores)-1] += 1\n",
    "heatmap_z_9 = np.zeros(10)\n",
    "for scores in female_host_scroe.review_scores_checkin:\n",
    "        heatmap_z_9[int(scores)-1] += 1\n",
    "heatmap_z_10 = np.zeros(10)\n",
    "for scores in female_host_scroe.review_scores_communication:\n",
    "        heatmap_z_10[int(scores)-1] += 1\n",
    "heatmap_z_11 = np.zeros(10)\n",
    "for scores in female_host_scroe.review_scores_location:\n",
    "        heatmap_z_11[int(scores)-1] += 1\n",
    "heatmap_z_12 = np.zeros(10)\n",
    "for scores in female_host_scroe.review_scores_value:\n",
    "        heatmap_z_12[int(scores)-1] += 1\n",
    "        \n",
    "heatmap_z_male = np.vstack((heatmap_z_1, heatmap_z_2,heatmap_z_3,heatmap_z_4,heatmap_z_5,heatmap_z_6))\n",
    "heatmap_z_female = np.vstack((heatmap_z_7, heatmap_z_8,heatmap_z_9,heatmap_z_10,heatmap_z_11,heatmap_z_12))\n",
    "#print heatmap_z_male,heatmap_z_female"
   ]
  },
  {
   "cell_type": "code",
   "execution_count": 158,
   "metadata": {
    "collapsed": false
   },
   "outputs": [],
   "source": [
    "male_y_axis = ['Accuracy','Cleanliness','Checkin','Communication','Location','Value']\n",
    "male_z_axis = heatmap_z_male\n",
    "male_x_axis = [1,2,3,4,5,6,7,8,9,10]\n",
    "female_z_axis = heatmap_z_female"
   ]
  },
  {
   "cell_type": "code",
   "execution_count": 159,
   "metadata": {
    "collapsed": false
   },
   "outputs": [
    {
     "data": {
      "text/html": [
       "<iframe id=\"igraph\" scrolling=\"no\" style=\"border:none;\" seamless=\"seamless\" src=\"https://plot.ly/~kristenwang/6.embed\" height=\"525px\" width=\"100%\"></iframe>"
      ],
      "text/plain": [
       "<plotly.tools.PlotlyDisplay object>"
      ]
     },
     "execution_count": 159,
     "metadata": {},
     "output_type": "execute_result"
    }
   ],
   "source": [
    "trace_male_scores = go.Heatmap(z=heatmap_z_male,\n",
    "                   x=male_x_axis,\n",
    "                   y=male_y_axis)\n",
    "data=[trace_male_scores]\n",
    "py.iplot(data, filename='male_scores_heatmap')"
   ]
  },
  {
   "cell_type": "code",
   "execution_count": 160,
   "metadata": {
    "collapsed": false
   },
   "outputs": [
    {
     "data": {
      "text/html": [
       "<iframe id=\"igraph\" scrolling=\"no\" style=\"border:none;\" seamless=\"seamless\" src=\"https://plot.ly/~kristenwang/8.embed\" height=\"525px\" width=\"100%\"></iframe>"
      ],
      "text/plain": [
       "<plotly.tools.PlotlyDisplay object>"
      ]
     },
     "execution_count": 160,
     "metadata": {},
     "output_type": "execute_result"
    }
   ],
   "source": [
    "trace_female_scores = go.Heatmap(z=female_z_axis,\n",
    "                   x=male_x_axis,\n",
    "                   y=male_y_axis)\n",
    "data=[trace_female_scores]\n",
    "py.iplot(data, filename='female_scores_heatmap')"
   ]
  },
  {
   "cell_type": "code",
   "execution_count": null,
   "metadata": {
    "collapsed": true
   },
   "outputs": [],
   "source": []
  }
 ],
 "metadata": {
  "anaconda-cloud": {},
  "kernelspec": {
   "display_name": "Python [py27]",
   "language": "python",
   "name": "Python [py27]"
  },
  "language_info": {
   "codemirror_mode": {
    "name": "ipython",
    "version": 2
   },
   "file_extension": ".py",
   "mimetype": "text/x-python",
   "name": "python",
   "nbconvert_exporter": "python",
   "pygments_lexer": "ipython2",
   "version": "2.7.12"
  }
 },
 "nbformat": 4,
 "nbformat_minor": 2
}
